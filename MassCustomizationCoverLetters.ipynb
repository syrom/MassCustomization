{
 "cells": [
  {
   "cell_type": "markdown",
   "metadata": {},
   "source": [
    "# 0) Version Control"
   ]
  },
  {
   "cell_type": "markdown",
   "metadata": {},
   "source": [
    "Version for Medium article"
   ]
  },
  {
   "cell_type": "markdown",
   "metadata": {
    "tags": []
   },
   "source": [
    "# 1) Package Import"
   ]
  },
  {
   "cell_type": "code",
   "execution_count": null,
   "metadata": {},
   "outputs": [],
   "source": [
    "import pandas as pd\n",
    "import time\n",
    "import random\n",
    "import os\n",
    "import openai"
   ]
  },
  {
   "cell_type": "markdown",
   "metadata": {
    "tags": []
   },
   "source": [
    "# 2) Variable declarations (global)"
   ]
  },
  {
   "cell_type": "code",
   "execution_count": null,
   "metadata": {},
   "outputs": [],
   "source": [
    "# openAI API key\n",
    "%env OPENAI_API_KEY = sk-YOURVERYCRYPTICOPENAIAPIKEY\n",
    "openai.api_key = os.getenv(\"OPENAI_API_KEY\")"
   ]
  },
  {
   "cell_type": "code",
   "execution_count": null,
   "metadata": {},
   "outputs": [],
   "source": [
    "# Define the context for Step1: with this, the job description is fed to chatGPT\n",
    "# Optimize outputs by playing with this formulation, e.g. the tone of voice\n",
    "s_context_JobDesc = '''I will give you a job description. I want you to formulate a cover letter that\n",
    "perfectly aligns with the needs and requirements expressed in this job description.\n",
    "Keep the tone formal and professional.\n",
    "The job description is as follows: \n",
    "'''"
   ]
  },
  {
   "cell_type": "code",
   "execution_count": null,
   "metadata": {
    "tags": []
   },
   "outputs": [],
   "source": [
    "# Define the context for Step2: with this, the CV is fed to chatGPT to further optimize the cover letter\n",
    "# Optimize outputs by playing with this formulation, e.g. the focus part\n",
    "s_context_CV = '''Now that you have formulated the cover letter, optimize it using the the data from my CV that will follow.\n",
    "Focus on the leadership aspects in my CV.\n",
    "The CV is as follows: \n",
    "'''"
   ]
  },
  {
   "cell_type": "code",
   "execution_count": null,
   "metadata": {
    "tags": []
   },
   "outputs": [],
   "source": [
    "# PASTE YOUR (optimized) plain text CV into this variable\n",
    "s_CV = '''A) Professional Experience\n",
    "A1) Finance Director GSA and Eastern Europe since January 2009\n",
    "ABC Corp.\n",
    "• Leading FP&A, accounting, treasury, tax, compliance, statutory and corporate matters for marketing & distribution activities\n",
    "• ....more info  \n",
    "A2) Sales Director \n",
    "ZYX Ltd. October 2006 - October 2008  \n",
    "• Build and grew the sales for ZYX's fantastic portfolio in 9 Central and Northern European countries via major industrial partners, taking revenue from 0 to the 50 Mio. range.  \n",
    "• ...more info\n",
    "A3) General Manager  \n",
    "Fantastic GmbH / October 2000 - September 2008  \n",
    "• 01/2006-09/2006, global responsibility for business development activities on new platforms;  prepared entry into new markets, establishing new revenue streams.  \n",
    "• ... more info  \n",
    "A4) Team Leader Controlling  \n",
    "CallCo communications Inc / August 1997 - September 2000  \n",
    "• From July 1999: Head of Almost Everything with a budget volume in the 100 Mio. EUR range with team of 4 people.  \n",
    "• ... more info\n",
    "B) Pre-Professional\n",
    "B1) Military service\n",
    "Air Force • October 1986 - July 1987  \n",
    "B2) EDUCATION  \n",
    "B2a) Studies of Engineering  \n",
    "Master at Technische Hochschule • 1993 • 1,9 GPA on 1-6 scale  \n",
    "B2b) Economic Engineering (Génie Industriel)  \n",
    "ENSGI (Ecole Nationale Supérieure de Génie Industriel) • France •  \n",
    "1991 \n",
    "B2c) A-Levels / German High School Graduation • 1,2 GPA on 1-6 scale  \n",
    "B2d) US High School Graduation  • 3.8 GPA\n",
    "C) Skills\n",
    "C1) IT\n",
    "- Standard Office Applications:  Expert\n",
    "- BI-Applications:  Advanced\n",
    "- PowerBI, Tableau:  Advanced \n",
    "- Python (Jupyter / Jupyter Lab) : Good \n",
    "- Databases: SQL (MariaDB,  Teradata, Snowflake): Good \n",
    "- Data Science: ML / AI Process:  Good\n",
    "- Privacy and Data Protection:  Advanced\n",
    "C2) Languages\n",
    "- German  (mother tongue)\n",
    "- English (C2 level)  \n",
    "- French (C2 level)  \n",
    "- Spanish (B1-B2 level)  \n",
    "- Dutch (A1 level)'''"
   ]
  },
  {
   "cell_type": "markdown",
   "metadata": {},
   "source": [
    "# 3) Definitions"
   ]
  },
  {
   "cell_type": "markdown",
   "metadata": {},
   "source": [
    "## 3a) Class definitions"
   ]
  },
  {
   "cell_type": "code",
   "execution_count": null,
   "metadata": {},
   "outputs": [],
   "source": []
  },
  {
   "cell_type": "markdown",
   "metadata": {},
   "source": [
    "## 3b) Function Definitions"
   ]
  },
  {
   "cell_type": "code",
   "execution_count": null,
   "metadata": {},
   "outputs": [],
   "source": [
    "def f_cover_letter_generation(s_JobDesc):\n",
    "    # initiate gpt_input\n",
    "    gpt_input = [{\"role\": \"system\", \"content\" : 'You are an HR-assistant that helps job candidates'}]\n",
    "\n",
    "    # Step1: Getting a first cover letter based solely on the job description itself\n",
    "    ###############################################\n",
    "    # Joining context and actual job description\n",
    "    content1 = s_context_JobDesc + s_JobDesc\n",
    "    ###############################################\n",
    "    gpt_input.append({\"role\": \"user\", \"content\": content1})\n",
    "    completion = openai.ChatCompletion.create(\n",
    "      model=\"gpt-3.5-turbo\",\n",
    "      messages=gpt_input,\n",
    "      temperature=1,\n",
    "      #max_tokens=2500,\n",
    "    )\n",
    "    chat_response = completion.choices[0].message.content\n",
    "    CL_only = chat_response # store return value of step1 of function\n",
    "    # Next line is VERY important -> it makes sure that the \"pure\" cover letter is not forgotten\n",
    "    gpt_input.append({\"role\": \"assistant\", \"content\": chat_response})\n",
    "\n",
    "    # Step2: optimizing the cover letter with CV data\n",
    "    ###############################################\n",
    "    # Joining context and actual CV date\n",
    "    content2 = s_context_CV + s_CV\n",
    "    ###############################################\n",
    "    gpt_input.append({\"role\": \"user\", \"content\": content2})\n",
    "    completion = openai.ChatCompletion.create(\n",
    "      model=\"gpt-3.5-turbo\",\n",
    "      messages=gpt_input,\n",
    "      temperature=0,\n",
    "      #max_tokens=2500,\n",
    "    )\n",
    "    chat_response = completion.choices[0].message.content\n",
    "    CL_with_CV = chat_response # store as return value of step2 of function\n",
    "    gpt_input.append({\"role\": \"assistant\", \"content\": chat_response})   \n",
    "    \n",
    "    return (CL_only, CL_with_CV)"
   ]
  },
  {
   "cell_type": "markdown",
   "metadata": {},
   "source": [
    "# 4) Actual Program"
   ]
  },
  {
   "cell_type": "markdown",
   "metadata": {},
   "source": [
    "## 4a) Data Import"
   ]
  },
  {
   "cell_type": "code",
   "execution_count": null,
   "metadata": {
    "tags": []
   },
   "outputs": [],
   "source": [
    "# MIND THE NAMING of file AND sheet\n",
    "xlsx_imp = pd.ExcelFile('LINKEDIN_JOB_POSTINGS_INPUT.xlsx')\n",
    "df_imp = pd.read_excel(xlsx_imp, 'POST_SELECT')"
   ]
  },
  {
   "cell_type": "code",
   "execution_count": null,
   "metadata": {},
   "outputs": [],
   "source": [
    "# create working dataframe with only the manually selected job postings\n",
    "# \"The 'x' in the column called SELECT marks the spot\" :-)\n",
    "df_w1 = df_imp[df_imp['SELECT'] =='x'].reset_index()\n",
    "df_w1 = df_w1.drop(['index','idx'], axis=1)\n",
    "print(len(df_w1))"
   ]
  },
  {
   "cell_type": "markdown",
   "metadata": {},
   "source": [
    "## 4b) The Core Code: looping thru the postings and have ChatGPT generate optimized cover letters"
   ]
  },
  {
   "cell_type": "code",
   "execution_count": null,
   "metadata": {},
   "outputs": [],
   "source": [
    "l_CL_only = []\n",
    "l_CL_with_CV = []\n",
    "l_CL_target = []"
   ]
  },
  {
   "cell_type": "code",
   "execution_count": null,
   "metadata": {},
   "outputs": [],
   "source": [
    "# loop through the rows using iterrows()\n",
    "for index, row in df_w1.iterrows():\n",
    "    #############################################################\n",
    "    print('Generating Cover Letter for role of ' + row['JobTitle']  + ' at ' + row['CompanyName'])\n",
    "    s_JobDesc = row['JobDescDetails']\n",
    "    CL_only, CL_with_CV = f_cover_letter_generation(s_JobDesc)\n",
    "    #############################################################\n",
    "    l_CL_only.append(CL_only)\n",
    "    l_CL_with_CV.append(CL_with_CV)\n",
    "    s_target = 'Cover Letter for role as ' + row['JobTitle']  + ' at ' + row['CompanyName']\n",
    "    l_CL_target.append(s_target)\n",
    "    # pause for a random number of seconds\n",
    "    time.sleep(random.randint(10, 30))"
   ]
  },
  {
   "cell_type": "markdown",
   "metadata": {},
   "source": [
    "## 4c) Prepare data for export and save to file"
   ]
  },
  {
   "cell_type": "code",
   "execution_count": null,
   "metadata": {},
   "outputs": [],
   "source": [
    "df_w1 = df_w1.drop(['SELECT','SELECT2'], axis=1)\n",
    "df_w1['CoverLetter_BEFORE_CV'] = l_CL_only\n",
    "df_w1['CoverLetter_AFTER_CV'] = l_CL_with_CV\n",
    "df_w1['CL_Target'] = l_CL_target"
   ]
  },
  {
   "cell_type": "code",
   "execution_count": null,
   "metadata": {},
   "outputs": [],
   "source": [
    "df_w1.to_excel(\"_CHATGPT_COVER_LETTERS.xlsx\")"
   ]
  }
 ],
 "metadata": {
  "kernelspec": {
   "display_name": "ds_ws_01",
   "language": "python",
   "name": "ds_ws_01"
  },
  "language_info": {
   "codemirror_mode": {
    "name": "ipython",
    "version": 3
   },
   "file_extension": ".py",
   "mimetype": "text/x-python",
   "name": "python",
   "nbconvert_exporter": "python",
   "pygments_lexer": "ipython3",
   "version": "3.9.16"
  }
 },
 "nbformat": 4,
 "nbformat_minor": 4
}
